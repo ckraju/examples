{
  "nbformat": 4,
  "nbformat_minor": 5,
  "metadata": {
    "kernelspec": {
      "display_name": "Python 3",
      "language": "python",
      "name": "python3"
    },
    "language_info": {
      "codemirror_mode": {
        "name": "ipython",
        "version": 3
      },
      "file_extension": ".py",
      "mimetype": "text/x-python",
      "name": "python",
      "nbconvert_exporter": "python",
      "pygments_lexer": "ipython3",
      "version": "3.9.5"
    },
    "colab": {
      "name": "FMML:M10:Lab1",
      "provenance": [],
      "collapsed_sections": [],
      "include_colab_link": true
    }
  },
  "cells": [
    {
      "cell_type": "markdown",
      "metadata": {
        "id": "view-in-github",
        "colab_type": "text"
      },
      "source": [
        "<a href=\"https://colab.research.google.com/github/ckraju/examples/blob/master/FMML_M10_Lab1.ipynb\" target=\"_parent\"><img src=\"https://colab.research.google.com/assets/colab-badge.svg\" alt=\"Open In Colab\"/></a>"
      ]
    },
    {
      "cell_type": "markdown",
      "metadata": {
        "id": "ba3344ed-b417-43a0-b0dd-ab1d8b3eca1d"
      },
      "source": [
        "# Introduction to pytorch\n",
        "\n",
        "In this lab, we go over the basics of [pytorch](https://pytorch.org/), an open source ML framework  "
      ],
      "id": "ba3344ed-b417-43a0-b0dd-ab1d8b3eca1d"
    },
    {
      "cell_type": "code",
      "metadata": {
        "execution": {
          "iopub.execute_input": "2021-06-20T10:29:07.044305Z",
          "iopub.status.busy": "2021-06-20T10:29:07.044007Z",
          "iopub.status.idle": "2021-06-20T10:29:07.706110Z",
          "shell.execute_reply": "2021-06-20T10:29:07.705501Z",
          "shell.execute_reply.started": "2021-06-20T10:29:07.044226Z"
        },
        "tags": [],
        "id": "c9159a53-c806-498f-b4ba-4035be6af4d6"
      },
      "source": [
        "import numpy as np\n",
        "\n",
        "# the module is named `torch`\n",
        "import torch"
      ],
      "id": "c9159a53-c806-498f-b4ba-4035be6af4d6",
      "execution_count": null,
      "outputs": []
    },
    {
      "cell_type": "markdown",
      "metadata": {
        "id": "eea29251-deec-443c-ab07-a1729fda84f0"
      },
      "source": [
        "## Tensors\n",
        "\n",
        "At its core, PyTorch is a library for processing tensors.  \n",
        "A tensor is a number, vector, matrix, or any n-dimensional array. It is equivalent to an `np.ndarray`  "
      ],
      "id": "eea29251-deec-443c-ab07-a1729fda84f0"
    },
    {
      "cell_type": "code",
      "metadata": {
        "execution": {
          "iopub.execute_input": "2021-06-20T10:29:07.707305Z",
          "iopub.status.busy": "2021-06-20T10:29:07.707073Z",
          "iopub.status.idle": "2021-06-20T10:29:07.710162Z",
          "shell.execute_reply": "2021-06-20T10:29:07.709675Z",
          "shell.execute_reply.started": "2021-06-20T10:29:07.707280Z"
        },
        "tags": [],
        "id": "f0f8f313-7d8b-4efa-bb62-f179fd30ade3"
      },
      "source": [
        "def show_tensor(t):\n",
        "    print(\"dtype:\", t.dtype)\n",
        "    print(\"size:\", t.size())\n",
        "    print(t)"
      ],
      "id": "f0f8f313-7d8b-4efa-bb62-f179fd30ade3",
      "execution_count": null,
      "outputs": []
    },
    {
      "cell_type": "code",
      "metadata": {
        "execution": {
          "iopub.execute_input": "2021-06-20T10:29:07.711100Z",
          "iopub.status.busy": "2021-06-20T10:29:07.710904Z",
          "iopub.status.idle": "2021-06-20T10:29:07.732122Z",
          "shell.execute_reply": "2021-06-20T10:29:07.731341Z",
          "shell.execute_reply.started": "2021-06-20T10:29:07.711072Z"
        },
        "tags": [],
        "id": "c0d41539-fd28-4df8-b991-e2067176a482"
      },
      "source": [
        "# Number\n",
        "t0 = torch.tensor(4)\n",
        "show_tensor(t0)"
      ],
      "id": "c0d41539-fd28-4df8-b991-e2067176a482",
      "execution_count": null,
      "outputs": []
    },
    {
      "cell_type": "code",
      "metadata": {
        "execution": {
          "iopub.execute_input": "2021-06-20T10:29:07.733719Z",
          "iopub.status.busy": "2021-06-20T10:29:07.733389Z",
          "iopub.status.idle": "2021-06-20T10:29:07.766991Z",
          "shell.execute_reply": "2021-06-20T10:29:07.765387Z",
          "shell.execute_reply.started": "2021-06-20T10:29:07.733679Z"
        },
        "tags": [],
        "id": "f4add7fc-8d53-4940-9f55-1973977edd34"
      },
      "source": [
        "# Vector\n",
        "t1 = torch.tensor([1.0, 2.0, 3.0, 4.0])\n",
        "show_tensor(t1)"
      ],
      "id": "f4add7fc-8d53-4940-9f55-1973977edd34",
      "execution_count": null,
      "outputs": []
    },
    {
      "cell_type": "markdown",
      "metadata": {
        "id": "ac43b88e-3c11-4dcc-8130-15836b7aeb15"
      },
      "source": [
        "Notice that torch used 64 bits for integer and 32 bits for float by default"
      ],
      "id": "ac43b88e-3c11-4dcc-8130-15836b7aeb15"
    },
    {
      "cell_type": "code",
      "metadata": {
        "execution": {
          "iopub.execute_input": "2021-06-20T10:29:07.768822Z",
          "iopub.status.busy": "2021-06-20T10:29:07.768403Z",
          "iopub.status.idle": "2021-06-20T10:29:07.783292Z",
          "shell.execute_reply": "2021-06-20T10:29:07.782382Z",
          "shell.execute_reply.started": "2021-06-20T10:29:07.768773Z"
        },
        "tags": [],
        "id": "0278aa2e-7835-4372-ae9f-98d89a180df1"
      },
      "source": [
        "# Matrix\n",
        "t2 = torch.tensor(\n",
        "    [\n",
        "        [1.0, 2.0, 3.0],\n",
        "        [4.0, 5.0, 6.0],\n",
        "        [7.0, 8.0, 9.0],\n",
        "    ]\n",
        ")\n",
        "show_tensor(t2)"
      ],
      "id": "0278aa2e-7835-4372-ae9f-98d89a180df1",
      "execution_count": null,
      "outputs": []
    },
    {
      "cell_type": "code",
      "metadata": {
        "execution": {
          "iopub.execute_input": "2021-06-20T10:29:07.784607Z",
          "iopub.status.busy": "2021-06-20T10:29:07.784389Z",
          "iopub.status.idle": "2021-06-20T10:29:07.801059Z",
          "shell.execute_reply": "2021-06-20T10:29:07.800345Z",
          "shell.execute_reply.started": "2021-06-20T10:29:07.784581Z"
        },
        "tags": [],
        "id": "de808428-66fa-49c7-8b0f-42e42fd0d516"
      },
      "source": [
        "# 3d array\n",
        "t3 = torch.tensor(\n",
        "    [\n",
        "        [[1, 2], [3, 4]],\n",
        "        [[5, 6], [7, 8]],\n",
        "    ]\n",
        ")\n",
        "show_tensor(t3)"
      ],
      "id": "de808428-66fa-49c7-8b0f-42e42fd0d516",
      "execution_count": null,
      "outputs": []
    },
    {
      "cell_type": "markdown",
      "metadata": {
        "id": "4e93cfdf-4896-4a6b-a2d7-cd941219086d"
      },
      "source": [
        "Like numpy, torch expects it's tensors to be of regular shape"
      ],
      "id": "4e93cfdf-4896-4a6b-a2d7-cd941219086d"
    },
    {
      "cell_type": "code",
      "metadata": {
        "execution": {
          "iopub.execute_input": "2021-06-20T10:29:07.802971Z",
          "iopub.status.busy": "2021-06-20T10:29:07.802771Z",
          "iopub.status.idle": "2021-06-20T10:29:07.904854Z",
          "shell.execute_reply": "2021-06-20T10:29:07.903941Z",
          "shell.execute_reply.started": "2021-06-20T10:29:07.802946Z"
        },
        "tags": [],
        "id": "8d2b6ec7-0558-4ef4-9687-184bae7e14d3"
      },
      "source": [
        "t4 = torch.tensor(\n",
        "    [\n",
        "        [1, 2],\n",
        "        [3, 4],\n",
        "        [5],\n",
        "    ]\n",
        ")\n",
        "show_tensor(t4)"
      ],
      "id": "8d2b6ec7-0558-4ef4-9687-184bae7e14d3",
      "execution_count": null,
      "outputs": []
    },
    {
      "cell_type": "markdown",
      "metadata": {
        "id": "a6308938-ef24-4821-873e-426ed1969394"
      },
      "source": [
        "## Interoperability with numpy\n",
        "\n",
        "You can easily convert between a torch tensor and a numpy nd array"
      ],
      "id": "a6308938-ef24-4821-873e-426ed1969394"
    },
    {
      "cell_type": "code",
      "metadata": {
        "execution": {
          "iopub.execute_input": "2021-06-20T10:29:12.121278Z",
          "iopub.status.busy": "2021-06-20T10:29:12.121050Z",
          "iopub.status.idle": "2021-06-20T10:29:12.126541Z",
          "shell.execute_reply": "2021-06-20T10:29:12.125721Z",
          "shell.execute_reply.started": "2021-06-20T10:29:12.121252Z"
        },
        "tags": [],
        "id": "81ea3248-5912-442e-90a2-56655d96a3bd"
      },
      "source": [
        "t5 = torch.tensor([[1, 2], [3, 4]])\n",
        "# call .numpy() to convert a tensor to np array\n",
        "a5 = t5.numpy()\n",
        "\n",
        "print(\"type:\", type(a5))\n",
        "print(\"dtype:\", a5.dtype)\n",
        "print(a5)"
      ],
      "id": "81ea3248-5912-442e-90a2-56655d96a3bd",
      "execution_count": null,
      "outputs": []
    },
    {
      "cell_type": "code",
      "metadata": {
        "execution": {
          "iopub.execute_input": "2021-06-20T10:29:12.631168Z",
          "iopub.status.busy": "2021-06-20T10:29:12.630403Z",
          "iopub.status.idle": "2021-06-20T10:29:12.646178Z",
          "shell.execute_reply": "2021-06-20T10:29:12.643387Z",
          "shell.execute_reply.started": "2021-06-20T10:29:12.631079Z"
        },
        "tags": [],
        "id": "98de9ca9-1877-4f64-9331-827439bcaf9a"
      },
      "source": [
        "# use torch.from_numpy to go from np array to tensor\n",
        "t6 = torch.from_numpy(a5)\n",
        "show_tensor(t6)"
      ],
      "id": "98de9ca9-1877-4f64-9331-827439bcaf9a",
      "execution_count": null,
      "outputs": []
    },
    {
      "cell_type": "markdown",
      "metadata": {
        "id": "245fd7af-047d-49e8-b49e-ef11fdfad05b"
      },
      "source": [
        "Just like numpy, you can index into tensors using the same notation"
      ],
      "id": "245fd7af-047d-49e8-b49e-ef11fdfad05b"
    },
    {
      "cell_type": "code",
      "metadata": {
        "execution": {
          "iopub.execute_input": "2021-06-20T10:29:14.867433Z",
          "iopub.status.busy": "2021-06-20T10:29:14.866978Z",
          "iopub.status.idle": "2021-06-20T10:29:14.876973Z",
          "shell.execute_reply": "2021-06-20T10:29:14.875402Z",
          "shell.execute_reply.started": "2021-06-20T10:29:14.867376Z"
        },
        "tags": [],
        "id": "ecb9f82a-ad14-4f80-9b0e-4819359d0f57"
      },
      "source": [
        "print(t2)\n",
        "print()\n",
        "print(t2[:, 1])"
      ],
      "id": "ecb9f82a-ad14-4f80-9b0e-4819359d0f57",
      "execution_count": null,
      "outputs": []
    },
    {
      "cell_type": "markdown",
      "metadata": {
        "id": "28dc91d0-a0d1-434c-abd1-dd0d7f03c5da"
      },
      "source": [
        "## Torch gradients\n",
        "\n",
        "Torch tensors are capable of tracking gradients"
      ],
      "id": "28dc91d0-a0d1-434c-abd1-dd0d7f03c5da"
    },
    {
      "cell_type": "code",
      "metadata": {
        "execution": {
          "iopub.execute_input": "2021-06-20T12:42:36.180565Z",
          "iopub.status.busy": "2021-06-20T12:42:36.179910Z",
          "iopub.status.idle": "2021-06-20T12:42:36.192813Z",
          "shell.execute_reply": "2021-06-20T12:42:36.191387Z",
          "shell.execute_reply.started": "2021-06-20T12:42:36.180490Z"
        },
        "tags": [],
        "id": "aa78820f-989f-4b19-ba88-16af6adb4c77"
      },
      "source": [
        "# create tensors.\n",
        "x = torch.tensor(3.0)\n",
        "w = torch.tensor(4.0, requires_grad=True)\n",
        "b = torch.tensor(5.0, requires_grad=True)\n",
        "print(x, w, b, sep=\"\\n\")"
      ],
      "id": "aa78820f-989f-4b19-ba88-16af6adb4c77",
      "execution_count": null,
      "outputs": []
    },
    {
      "cell_type": "markdown",
      "metadata": {
        "id": "87ebf1c5-8bcd-4708-95eb-e515d369f30e"
      },
      "source": [
        "Lets take this simple function:\n",
        "$y = wx + b$\n",
        "\n",
        "now,\n",
        "\\begin{align}\\frac{\\partial y}{\\partial w} = x\\end{align}\n",
        "and\n",
        "\\begin{align}\\frac{\\partial y}{\\partial b} = 1\\end{align}"
      ],
      "id": "87ebf1c5-8bcd-4708-95eb-e515d369f30e"
    },
    {
      "cell_type": "code",
      "metadata": {
        "execution": {
          "iopub.execute_input": "2021-06-20T12:42:37.782155Z",
          "iopub.status.busy": "2021-06-20T12:42:37.781508Z",
          "iopub.status.idle": "2021-06-20T12:42:37.811147Z",
          "shell.execute_reply": "2021-06-20T12:42:37.810167Z",
          "shell.execute_reply.started": "2021-06-20T12:42:37.782091Z"
        },
        "tags": [],
        "id": "41a911f2-0442-407d-af48-61546907d378"
      },
      "source": [
        "y = w * x + b\n",
        "print(y)"
      ],
      "id": "41a911f2-0442-407d-af48-61546907d378",
      "execution_count": null,
      "outputs": []
    },
    {
      "cell_type": "markdown",
      "metadata": {
        "id": "09e2336e-40e1-4a6e-8d98-b41140dbada4"
      },
      "source": [
        "Torch is capable of tracking that we got y after multiplying w, x and then adding b  \n",
        "It uses this information while calculating the partial differential of y wrt w and b\n",
        "\n",
        "Note that x wasn't marked with requires_grad and hence it doesn't exist"
      ],
      "id": "09e2336e-40e1-4a6e-8d98-b41140dbada4"
    },
    {
      "cell_type": "code",
      "metadata": {
        "execution": {
          "iopub.execute_input": "2021-06-20T12:42:38.836525Z",
          "iopub.status.busy": "2021-06-20T12:42:38.835718Z",
          "iopub.status.idle": "2021-06-20T12:42:38.844587Z",
          "shell.execute_reply": "2021-06-20T12:42:38.843494Z",
          "shell.execute_reply.started": "2021-06-20T12:42:38.836314Z"
        },
        "tags": [],
        "id": "e6adf2aa-bb98-40cf-aad0-8c03d76577d6"
      },
      "source": [
        "# compute derivatives\n",
        "y.backward()"
      ],
      "id": "e6adf2aa-bb98-40cf-aad0-8c03d76577d6",
      "execution_count": null,
      "outputs": []
    },
    {
      "cell_type": "code",
      "metadata": {
        "execution": {
          "iopub.execute_input": "2021-06-20T12:42:39.869507Z",
          "iopub.status.busy": "2021-06-20T12:42:39.869137Z",
          "iopub.status.idle": "2021-06-20T12:42:39.876386Z",
          "shell.execute_reply": "2021-06-20T12:42:39.875398Z",
          "shell.execute_reply.started": "2021-06-20T12:42:39.869445Z"
        },
        "tags": [],
        "id": "3f334983-9bcc-4502-85aa-cab7620e04ef"
      },
      "source": [
        "# display gradients\n",
        "print(\"dy/dx:\", x.grad)  # shouldn't exist since x wasn't marked with requires_grad\n",
        "print(\"dy/dw:\", w.grad)  # should be equal to x\n",
        "print(\"dy/db:\", b.grad)  # should be 1"
      ],
      "id": "3f334983-9bcc-4502-85aa-cab7620e04ef",
      "execution_count": null,
      "outputs": []
    },
    {
      "cell_type": "markdown",
      "metadata": {
        "id": "d428755e-8a23-44a2-beed-fbd37b64e0a7"
      },
      "source": [
        "## Differentiation in Autograd\n",
        "Let's take a look at how `autograd` collects gradients. We create two tensors `a` and `b` with `requires_grad=True`. This signals to `autograd` that every operation on them should be tracked."
      ],
      "id": "d428755e-8a23-44a2-beed-fbd37b64e0a7"
    },
    {
      "cell_type": "code",
      "metadata": {
        "execution": {
          "iopub.execute_input": "2021-06-20T12:49:05.685113Z",
          "iopub.status.busy": "2021-06-20T12:49:05.684765Z",
          "iopub.status.idle": "2021-06-20T12:49:05.693089Z",
          "shell.execute_reply": "2021-06-20T12:49:05.689998Z",
          "shell.execute_reply.started": "2021-06-20T12:49:05.685073Z"
        },
        "id": "c468e25d-3f60-48a1-abc7-c20152b1b815"
      },
      "source": [
        "a = torch.tensor([2.0, 3.0], requires_grad=True)\n",
        "b = torch.tensor([6.0, 4.0], requires_grad=True)"
      ],
      "id": "c468e25d-3f60-48a1-abc7-c20152b1b815",
      "execution_count": null,
      "outputs": []
    },
    {
      "cell_type": "markdown",
      "metadata": {
        "id": "4ad83a59-ad1f-4ff5-bc15-594670e48527"
      },
      "source": [
        "Now, let's take the function\n",
        "$Q=3a^3−b^2$"
      ],
      "id": "4ad83a59-ad1f-4ff5-bc15-594670e48527"
    },
    {
      "cell_type": "code",
      "metadata": {
        "execution": {
          "iopub.execute_input": "2021-06-20T12:49:06.385613Z",
          "iopub.status.busy": "2021-06-20T12:49:06.385310Z",
          "iopub.status.idle": "2021-06-20T12:49:06.452930Z",
          "shell.execute_reply": "2021-06-20T12:49:06.452240Z",
          "shell.execute_reply.started": "2021-06-20T12:49:06.385577Z"
        },
        "id": "0a5f6c45-4b21-499d-b830-0e86da21b66f"
      },
      "source": [
        "Q = (3 * a ** 3) - (b ** 2)"
      ],
      "id": "0a5f6c45-4b21-499d-b830-0e86da21b66f",
      "execution_count": null,
      "outputs": []
    },
    {
      "cell_type": "markdown",
      "metadata": {
        "id": "b1570ea9-9722-4d9b-ac05-195ed9ca63b7"
      },
      "source": [
        "Let's assume `a` and `b` to be parameters of an NN, and `Q` to be the error. In NN training, we want gradients of the error w.r.t. parameters, i.e.\n",
        "\n",
        "\\begin{align}\\frac{\\partial Q}{\\partial a} = 9a^2\\end{align}\n",
        "\\begin{align}\\frac{\\partial Q}{\\partial b} = -2b\\end{align}\n",
        "\n",
        "\n",
        "When we call `.backward()` on `Q`, autograd calculates these gradients and stores them in the respective tensors' `.grad` attribute.\n",
        "\n",
        "We need to explicitly pass a `gradient` argument in `Q.backward()` because it is a vector. `gradient` is a tensor of the same shape as `Q`, and it represents the gradient of Q w.r.t. itself, i.e.\n",
        "\n",
        "\\begin{align}\\frac{dQ}{dQ} = 1\\end{align}\n",
        "\n",
        "Equivalently, we can also aggregate Q into a scalar and call backward implicitly, like `Q.sum().backward()`."
      ],
      "id": "b1570ea9-9722-4d9b-ac05-195ed9ca63b7"
    },
    {
      "cell_type": "code",
      "metadata": {
        "execution": {
          "iopub.execute_input": "2021-06-20T12:49:07.431633Z",
          "iopub.status.busy": "2021-06-20T12:49:07.430640Z",
          "iopub.status.idle": "2021-06-20T12:49:07.442046Z",
          "shell.execute_reply": "2021-06-20T12:49:07.438819Z",
          "shell.execute_reply.started": "2021-06-20T12:49:07.431533Z"
        },
        "id": "5c02f4bc-8828-45e7-a4cb-7dae6b3ac770"
      },
      "source": [
        "external_grad = torch.tensor([1.0, 1.0])\n",
        "Q.backward(gradient=external_grad)"
      ],
      "id": "5c02f4bc-8828-45e7-a4cb-7dae6b3ac770",
      "execution_count": null,
      "outputs": []
    },
    {
      "cell_type": "markdown",
      "metadata": {
        "id": "d1a20d76-93ad-4fc5-9c1c-ac4c60541360"
      },
      "source": [
        "Gradients are now deposited in `a.grad` and `b.grad`"
      ],
      "id": "d1a20d76-93ad-4fc5-9c1c-ac4c60541360"
    },
    {
      "cell_type": "code",
      "metadata": {
        "execution": {
          "iopub.execute_input": "2021-06-20T12:49:22.673533Z",
          "iopub.status.busy": "2021-06-20T12:49:22.672874Z",
          "iopub.status.idle": "2021-06-20T12:49:22.680914Z",
          "shell.execute_reply": "2021-06-20T12:49:22.679765Z",
          "shell.execute_reply.started": "2021-06-20T12:49:22.673476Z"
        },
        "tags": [],
        "id": "879a9839-8629-46ec-bda1-3f98d2cccef4"
      },
      "source": [
        "# check if collected gradients are correct\n",
        "print(9 * a ** 2 == a.grad)\n",
        "print(-2 * b == b.grad)"
      ],
      "id": "879a9839-8629-46ec-bda1-3f98d2cccef4",
      "execution_count": null,
      "outputs": []
    },
    {
      "cell_type": "code",
      "metadata": {
        "execution": {
          "iopub.execute_input": "2021-06-20T12:49:08.347406Z",
          "iopub.status.busy": "2021-06-20T12:49:08.346999Z",
          "iopub.status.idle": "2021-06-20T12:49:08.358510Z",
          "shell.execute_reply": "2021-06-20T12:49:08.354973Z",
          "shell.execute_reply.started": "2021-06-20T12:49:08.347360Z"
        },
        "tags": [],
        "id": "9b5ad551-38fb-4a8a-bd07-112c7c9230b1"
      },
      "source": [
        "print(a.grad, b.grad, sep=\"\\n\")"
      ],
      "id": "9b5ad551-38fb-4a8a-bd07-112c7c9230b1",
      "execution_count": null,
      "outputs": []
    },
    {
      "cell_type": "markdown",
      "metadata": {
        "id": "7ORwCQkje2K5"
      },
      "source": [
        "## Visualizing the computation graph\n",
        "\n",
        "We use the module [pytorchviz](https://github.com/szagoruyko/pytorchviz) for this"
      ],
      "id": "7ORwCQkje2K5"
    },
    {
      "cell_type": "code",
      "metadata": {
        "id": "7FD6i8Pue7Bb"
      },
      "source": [
        "!pip install -q torchviz\n",
        "from torchviz import make_dot"
      ],
      "id": "7FD6i8Pue7Bb",
      "execution_count": null,
      "outputs": []
    },
    {
      "cell_type": "code",
      "metadata": {
        "id": "5fAsEVlJe9fO"
      },
      "source": [
        "make_dot(Q, params={\"Q\": Q, \"a\": a, \"b\": b})"
      ],
      "id": "5fAsEVlJe9fO",
      "execution_count": null,
      "outputs": []
    },
    {
      "cell_type": "markdown",
      "metadata": {
        "id": "o-cDYD4JgaiB"
      },
      "source": [
        "# Resources\n",
        "- https://towardsdatascience.com/pytorch-autograd-understanding-the-heart-of-pytorchs-magic-2686cd94ec95\n",
        "- https://pytorch.org/tutorials/beginner/blitz/autograd_tutorial.html"
      ],
      "id": "o-cDYD4JgaiB"
    }
  ]
}